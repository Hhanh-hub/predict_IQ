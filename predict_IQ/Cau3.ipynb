{
 "cells": [
  {
   "cell_type": "markdown",
   "id": "6162d378",
   "metadata": {},
   "source": [
    "Câu 3. Hồi quy tuyến tính (3 điểm) \n",
    "Tập tin ‘IQ6.xls’ chứa dữ liệu huấn luyện về mối quan hệ giữa chỉ số IQ với điểm thi của các môn học. \n",
    "\n",
    "3.1) Vẽ biểu đồ phân phối và cho biết những giá trị thống kê cơ bản của điểm thi các môn. Xác \n",
    "định outlier(s), nếu có, của chỉ số IQ và của điểm thi các môn dựa trên quy tắc 3-Sigma. \n",
    "\n",
    "3.2) Tính hệ số tương quan Pearson giữa IQ và các điểm thi. Trên cơ sở đó, chọn điểm thi của 1 \n",
    "trong các môn để dự đoán chỉ số IQ theo phương pháp hồi quy tuyến tính dựa trên a) Gradient \n",
    "Descent VÀ b) Công thức hiệp phương sai. Trực quan hóa dữ liệu. \n",
    "\n",
    "3.3) Dự đoán chỉ số IQ cho tập dữ liệu thử nghiệm (test set): { 0.5, 1.0, 1.5, 2.0, …, 9.0, 9.5, 10 }. \n",
    "\n",
    "3.4) Nhận xét kết quả khi dùng diem_5 để dự đoán chỉ số IQ."
   ]
  },
  {
   "cell_type": "code",
   "execution_count": 1,
   "id": "2d1eebb9",
   "metadata": {},
   "outputs": [],
   "source": [
    "import pandas as pd \n",
    "import numpy as np\n",
    "import matplotlib.pyplot as plt\n",
    "import seaborn as sns\n",
    "import scipy\n",
    "from scipy.stats import zscore"
   ]
  },
  {
   "cell_type": "code",
   "execution_count": 2,
   "id": "e4f9ebc1",
   "metadata": {},
   "outputs": [
    {
     "data": {
      "text/html": [
       "<div>\n",
       "<style scoped>\n",
       "    .dataframe tbody tr th:only-of-type {\n",
       "        vertical-align: middle;\n",
       "    }\n",
       "\n",
       "    .dataframe tbody tr th {\n",
       "        vertical-align: top;\n",
       "    }\n",
       "\n",
       "    .dataframe thead th {\n",
       "        text-align: right;\n",
       "    }\n",
       "</style>\n",
       "<table border=\"1\" class=\"dataframe\">\n",
       "  <thead>\n",
       "    <tr style=\"text-align: right;\">\n",
       "      <th></th>\n",
       "      <th>diem_1</th>\n",
       "      <th>diem_2</th>\n",
       "      <th>diem_3</th>\n",
       "      <th>diem_4</th>\n",
       "      <th>diem_5</th>\n",
       "      <th>diem_6</th>\n",
       "      <th>IQ</th>\n",
       "    </tr>\n",
       "    <tr>\n",
       "      <th>stt</th>\n",
       "      <th></th>\n",
       "      <th></th>\n",
       "      <th></th>\n",
       "      <th></th>\n",
       "      <th></th>\n",
       "      <th></th>\n",
       "      <th></th>\n",
       "    </tr>\n",
       "  </thead>\n",
       "  <tbody>\n",
       "    <tr>\n",
       "      <th>1</th>\n",
       "      <td>8</td>\n",
       "      <td>2.0</td>\n",
       "      <td>7.0</td>\n",
       "      <td>7</td>\n",
       "      <td>1.4</td>\n",
       "      <td>8.0</td>\n",
       "      <td>68</td>\n",
       "    </tr>\n",
       "    <tr>\n",
       "      <th>2</th>\n",
       "      <td>8</td>\n",
       "      <td>8.4</td>\n",
       "      <td>6.4</td>\n",
       "      <td>8</td>\n",
       "      <td>4.0</td>\n",
       "      <td>1.6</td>\n",
       "      <td>137</td>\n",
       "    </tr>\n",
       "    <tr>\n",
       "      <th>3</th>\n",
       "      <td>7</td>\n",
       "      <td>7.6</td>\n",
       "      <td>7.8</td>\n",
       "      <td>8</td>\n",
       "      <td>5.2</td>\n",
       "      <td>2.4</td>\n",
       "      <td>135</td>\n",
       "    </tr>\n",
       "    <tr>\n",
       "      <th>4</th>\n",
       "      <td>8</td>\n",
       "      <td>7.0</td>\n",
       "      <td>2.5</td>\n",
       "      <td>6</td>\n",
       "      <td>6.4</td>\n",
       "      <td>7.0</td>\n",
       "      <td>79</td>\n",
       "    </tr>\n",
       "    <tr>\n",
       "      <th>5</th>\n",
       "      <td>8</td>\n",
       "      <td>4.4</td>\n",
       "      <td>3.8</td>\n",
       "      <td>6</td>\n",
       "      <td>1.0</td>\n",
       "      <td>5.6</td>\n",
       "      <td>107</td>\n",
       "    </tr>\n",
       "    <tr>\n",
       "      <th>6</th>\n",
       "      <td>8</td>\n",
       "      <td>6.4</td>\n",
       "      <td>7.2</td>\n",
       "      <td>7</td>\n",
       "      <td>5.6</td>\n",
       "      <td>3.6</td>\n",
       "      <td>128</td>\n",
       "    </tr>\n",
       "    <tr>\n",
       "      <th>7</th>\n",
       "      <td>7</td>\n",
       "      <td>8.0</td>\n",
       "      <td>8.4</td>\n",
       "      <td>8</td>\n",
       "      <td>4.4</td>\n",
       "      <td>2.0</td>\n",
       "      <td>120</td>\n",
       "    </tr>\n",
       "    <tr>\n",
       "      <th>8</th>\n",
       "      <td>8</td>\n",
       "      <td>2.8</td>\n",
       "      <td>6.8</td>\n",
       "      <td>6</td>\n",
       "      <td>0.4</td>\n",
       "      <td>7.2</td>\n",
       "      <td>74</td>\n",
       "    </tr>\n",
       "    <tr>\n",
       "      <th>9</th>\n",
       "      <td>6</td>\n",
       "      <td>5.2</td>\n",
       "      <td>5.0</td>\n",
       "      <td>7</td>\n",
       "      <td>5.0</td>\n",
       "      <td>4.8</td>\n",
       "      <td>110</td>\n",
       "    </tr>\n",
       "    <tr>\n",
       "      <th>10</th>\n",
       "      <td>8</td>\n",
       "      <td>6.4</td>\n",
       "      <td>8.9</td>\n",
       "      <td>7</td>\n",
       "      <td>2.4</td>\n",
       "      <td>3.6</td>\n",
       "      <td>134</td>\n",
       "    </tr>\n",
       "    <tr>\n",
       "      <th>11</th>\n",
       "      <td>8</td>\n",
       "      <td>7.6</td>\n",
       "      <td>9.2</td>\n",
       "      <td>7</td>\n",
       "      <td>3.6</td>\n",
       "      <td>2.4</td>\n",
       "      <td>139</td>\n",
       "    </tr>\n",
       "    <tr>\n",
       "      <th>12</th>\n",
       "      <td>7</td>\n",
       "      <td>5.0</td>\n",
       "      <td>5.4</td>\n",
       "      <td>7</td>\n",
       "      <td>4.8</td>\n",
       "      <td>5.0</td>\n",
       "      <td>110</td>\n",
       "    </tr>\n",
       "    <tr>\n",
       "      <th>13</th>\n",
       "      <td>8</td>\n",
       "      <td>9.6</td>\n",
       "      <td>8.7</td>\n",
       "      <td>9</td>\n",
       "      <td>7.2</td>\n",
       "      <td>0.4</td>\n",
       "      <td>140</td>\n",
       "    </tr>\n",
       "    <tr>\n",
       "      <th>14</th>\n",
       "      <td>8</td>\n",
       "      <td>5.6</td>\n",
       "      <td>7.4</td>\n",
       "      <td>6</td>\n",
       "      <td>2.0</td>\n",
       "      <td>4.4</td>\n",
       "      <td>115</td>\n",
       "    </tr>\n",
       "    <tr>\n",
       "      <th>15</th>\n",
       "      <td>8</td>\n",
       "      <td>4.4</td>\n",
       "      <td>7.2</td>\n",
       "      <td>6</td>\n",
       "      <td>3.6</td>\n",
       "      <td>5.6</td>\n",
       "      <td>88</td>\n",
       "    </tr>\n",
       "    <tr>\n",
       "      <th>16</th>\n",
       "      <td>8</td>\n",
       "      <td>9.0</td>\n",
       "      <td>9.2</td>\n",
       "      <td>8</td>\n",
       "      <td>5.6</td>\n",
       "      <td>1.0</td>\n",
       "      <td>128</td>\n",
       "    </tr>\n",
       "    <tr>\n",
       "      <th>17</th>\n",
       "      <td>7</td>\n",
       "      <td>3.6</td>\n",
       "      <td>6.3</td>\n",
       "      <td>6</td>\n",
       "      <td>7.0</td>\n",
       "      <td>6.4</td>\n",
       "      <td>120</td>\n",
       "    </tr>\n",
       "    <tr>\n",
       "      <th>18</th>\n",
       "      <td>8</td>\n",
       "      <td>4.8</td>\n",
       "      <td>8.1</td>\n",
       "      <td>6</td>\n",
       "      <td>2.4</td>\n",
       "      <td>5.2</td>\n",
       "      <td>113</td>\n",
       "    </tr>\n",
       "    <tr>\n",
       "      <th>19</th>\n",
       "      <td>6</td>\n",
       "      <td>6.0</td>\n",
       "      <td>5.2</td>\n",
       "      <td>7</td>\n",
       "      <td>1.6</td>\n",
       "      <td>4.0</td>\n",
       "      <td>121</td>\n",
       "    </tr>\n",
       "    <tr>\n",
       "      <th>20</th>\n",
       "      <td>8</td>\n",
       "      <td>8.6</td>\n",
       "      <td>6.7</td>\n",
       "      <td>8</td>\n",
       "      <td>8.0</td>\n",
       "      <td>1.4</td>\n",
       "      <td>138</td>\n",
       "    </tr>\n",
       "  </tbody>\n",
       "</table>\n",
       "</div>"
      ],
      "text/plain": [
       "     diem_1  diem_2  diem_3  diem_4  diem_5  diem_6   IQ\n",
       "stt                                                     \n",
       "1         8     2.0     7.0       7     1.4     8.0   68\n",
       "2         8     8.4     6.4       8     4.0     1.6  137\n",
       "3         7     7.6     7.8       8     5.2     2.4  135\n",
       "4         8     7.0     2.5       6     6.4     7.0   79\n",
       "5         8     4.4     3.8       6     1.0     5.6  107\n",
       "6         8     6.4     7.2       7     5.6     3.6  128\n",
       "7         7     8.0     8.4       8     4.4     2.0  120\n",
       "8         8     2.8     6.8       6     0.4     7.2   74\n",
       "9         6     5.2     5.0       7     5.0     4.8  110\n",
       "10        8     6.4     8.9       7     2.4     3.6  134\n",
       "11        8     7.6     9.2       7     3.6     2.4  139\n",
       "12        7     5.0     5.4       7     4.8     5.0  110\n",
       "13        8     9.6     8.7       9     7.2     0.4  140\n",
       "14        8     5.6     7.4       6     2.0     4.4  115\n",
       "15        8     4.4     7.2       6     3.6     5.6   88\n",
       "16        8     9.0     9.2       8     5.6     1.0  128\n",
       "17        7     3.6     6.3       6     7.0     6.4  120\n",
       "18        8     4.8     8.1       6     2.4     5.2  113\n",
       "19        6     6.0     5.2       7     1.6     4.0  121\n",
       "20        8     8.6     6.7       8     8.0     1.4  138"
      ]
     },
     "execution_count": 2,
     "metadata": {},
     "output_type": "execute_result"
    }
   ],
   "source": [
    "df = pd.read_excel('Data/IQ6.xls', index_col=0)\n",
    "df"
   ]
  },
  {
   "cell_type": "code",
   "execution_count": 3,
   "id": "8a5730e9",
   "metadata": {},
   "outputs": [
    {
     "data": {
      "text/html": [
       "<div>\n",
       "<style scoped>\n",
       "    .dataframe tbody tr th:only-of-type {\n",
       "        vertical-align: middle;\n",
       "    }\n",
       "\n",
       "    .dataframe tbody tr th {\n",
       "        vertical-align: top;\n",
       "    }\n",
       "\n",
       "    .dataframe thead th {\n",
       "        text-align: right;\n",
       "    }\n",
       "</style>\n",
       "<table border=\"1\" class=\"dataframe\">\n",
       "  <thead>\n",
       "    <tr style=\"text-align: right;\">\n",
       "      <th></th>\n",
       "      <th>diem_1</th>\n",
       "      <th>diem_2</th>\n",
       "      <th>diem_3</th>\n",
       "      <th>diem_4</th>\n",
       "      <th>diem_5</th>\n",
       "      <th>diem_6</th>\n",
       "      <th>IQ</th>\n",
       "    </tr>\n",
       "    <tr>\n",
       "      <th>stt</th>\n",
       "      <th></th>\n",
       "      <th></th>\n",
       "      <th></th>\n",
       "      <th></th>\n",
       "      <th></th>\n",
       "      <th></th>\n",
       "      <th></th>\n",
       "    </tr>\n",
       "  </thead>\n",
       "  <tbody>\n",
       "    <tr>\n",
       "      <th>1</th>\n",
       "      <td>8</td>\n",
       "      <td>2.0</td>\n",
       "      <td>7.0</td>\n",
       "      <td>7</td>\n",
       "      <td>1.4</td>\n",
       "      <td>8.0</td>\n",
       "      <td>68</td>\n",
       "    </tr>\n",
       "    <tr>\n",
       "      <th>2</th>\n",
       "      <td>8</td>\n",
       "      <td>8.4</td>\n",
       "      <td>6.4</td>\n",
       "      <td>8</td>\n",
       "      <td>4.0</td>\n",
       "      <td>1.6</td>\n",
       "      <td>137</td>\n",
       "    </tr>\n",
       "    <tr>\n",
       "      <th>3</th>\n",
       "      <td>7</td>\n",
       "      <td>7.6</td>\n",
       "      <td>7.8</td>\n",
       "      <td>8</td>\n",
       "      <td>5.2</td>\n",
       "      <td>2.4</td>\n",
       "      <td>135</td>\n",
       "    </tr>\n",
       "    <tr>\n",
       "      <th>4</th>\n",
       "      <td>8</td>\n",
       "      <td>7.0</td>\n",
       "      <td>2.5</td>\n",
       "      <td>6</td>\n",
       "      <td>6.4</td>\n",
       "      <td>7.0</td>\n",
       "      <td>79</td>\n",
       "    </tr>\n",
       "    <tr>\n",
       "      <th>5</th>\n",
       "      <td>8</td>\n",
       "      <td>4.4</td>\n",
       "      <td>3.8</td>\n",
       "      <td>6</td>\n",
       "      <td>1.0</td>\n",
       "      <td>5.6</td>\n",
       "      <td>107</td>\n",
       "    </tr>\n",
       "  </tbody>\n",
       "</table>\n",
       "</div>"
      ],
      "text/plain": [
       "     diem_1  diem_2  diem_3  diem_4  diem_5  diem_6   IQ\n",
       "stt                                                     \n",
       "1         8     2.0     7.0       7     1.4     8.0   68\n",
       "2         8     8.4     6.4       8     4.0     1.6  137\n",
       "3         7     7.6     7.8       8     5.2     2.4  135\n",
       "4         8     7.0     2.5       6     6.4     7.0   79\n",
       "5         8     4.4     3.8       6     1.0     5.6  107"
      ]
     },
     "execution_count": 3,
     "metadata": {},
     "output_type": "execute_result"
    }
   ],
   "source": [
    "df.head()"
   ]
  },
  {
   "cell_type": "markdown",
   "id": "23fbf2f9",
   "metadata": {},
   "source": [
    "3.1) Vẽ biểu đồ phân phối và cho biết những giá trị thống kê cơ bản của điểm thi các môn. Xác định outlier(s), nếu có, của chỉ số IQ và của điểm thi các môn dựa trên quy tắc 3-Sigma."
   ]
  },
  {
   "cell_type": "code",
   "execution_count": 4,
   "id": "9a210562",
   "metadata": {},
   "outputs": [],
   "source": [
    "score = ['diem_1','diem_2','diem_3','diem_4','diem_5','diem_6']"
   ]
  },
  {
   "cell_type": "code",
   "execution_count": 28,
   "id": "61d06d51",
   "metadata": {
    "scrolled": true
   },
   "outputs": [
    {
     "name": "stdout",
     "output_type": "stream",
     "text": [
      "Thống kê cơ bản diem_1:\n",
      "Mean   x_  =  7.6\n",
      "MIN    x_min =  6\n",
      "MAX    x_max =  8\n",
      "Median x_med =  8.0\n",
      "Mode   x_mod =  8\n",
      "       f(x)  = 14\n",
      "\n",
      "\n",
      "\n",
      "Thống kê cơ bản diem_2:\n",
      "Mean   x_  =  6.119999999999999\n",
      "MIN    x_min =  2.0\n",
      "MAX    x_max =  9.6\n",
      "Median x_med =  6.2\n",
      "Mode   x_mod =  4.4\n",
      "       f(x)  = 2\n",
      "\n",
      "\n",
      "\n",
      "Thống kê cơ bản diem_3:\n",
      "Mean   x_  =  6.859999999999999\n",
      "MIN    x_min =  2.5\n",
      "MAX    x_max =  9.2\n",
      "Median x_med =  7.1\n",
      "Mode   x_mod =  7.2\n",
      "       f(x)  = 2\n",
      "\n",
      "\n",
      "\n",
      "Thống kê cơ bản diem_4:\n",
      "Mean   x_  =  7.0\n",
      "MIN    x_min =  6\n",
      "MAX    x_max =  9\n",
      "Median x_med =  7.0\n",
      "Mode   x_mod =  6\n",
      "       f(x)  = 7\n",
      "\n",
      "\n",
      "\n",
      "Thống kê cơ bản diem_5:\n",
      "Mean   x_  =  4.08\n",
      "MIN    x_min =  0.4\n",
      "MAX    x_max =  8.0\n",
      "Median x_med =  4.2\n",
      "Mode   x_mod =  2.4\n",
      "       f(x)  = 2\n",
      "\n",
      "\n",
      "\n",
      "Thống kê cơ bản diem_6:\n",
      "Mean   x_  =  4.08\n",
      "MIN    x_min =  0.4\n",
      "MAX    x_max =  8.0\n",
      "Median x_med =  4.2\n",
      "Mode   x_mod =  2.4\n",
      "       f(x)  = 2\n",
      "\n",
      "\n",
      "\n",
      "Thống kê cơ bản IQ:\n",
      "Mean   x_  =  115.2\n",
      "MIN    x_min =  68\n",
      "MAX    x_max =  140\n",
      "Median x_med =  120.0\n",
      "Mode   x_mod =  110\n",
      "       f(x)  = 2\n",
      "\n",
      "\n",
      "\n"
     ]
    }
   ],
   "source": [
    "from numpy import mean, median\n",
    "for i in df.columns:\n",
    "    k = df[i].to_numpy()\n",
    "    print(f'Thống kê cơ bản {i}:')\n",
    "    print('Mean   x_  = ', mean(k))\n",
    "    print('MIN    x_min = ', min(df[i]))\n",
    "    print('MAX    x_max = ',max(df[i]))\n",
    "    print('Median x_med = ', median(k))\n",
    "    x_mod = scipy.stats.mode(k)\n",
    "    print('Mode   x_mod = ', x_mod[0][0])\n",
    "    print('       f(x)  =', x_mod[1][0])\n",
    "    print('\\n\\n')"
   ]
  },
  {
   "cell_type": "code",
   "execution_count": 6,
   "id": "ba9bcda8",
   "metadata": {},
   "outputs": [
    {
     "data": {
      "image/png": "[encoded data removed]",
      "text/plain": [
       "<Figure size 576x576 with 6 Axes>"
      ]
     },
     "metadata": {
      "needs_background": "light"
     },
     "output_type": "display_data"
    }
   ],
   "source": [
    "k = 0\n",
    "plt.figure(figsize = (8, 8))\n",
    "for diem in score:\n",
    "    k+=1\n",
    "    plt.subplot(2, 3, k)\n",
    "    sns.boxplot(data = df[[diem]])\n",
    "    "
   ]
  },
  {
   "cell_type": "markdown",
   "id": "1a4e56d4",
   "metadata": {},
   "source": [
    "Xác định outlier(s), nếu có, của chỉ số IQ và của điểm thi các môn dựa trên quy tắc 3-Sigma."
   ]
  },
  {
   "cell_type": "code",
   "execution_count": 7,
   "id": "df055391",
   "metadata": {},
   "outputs": [
    {
     "data": {
      "text/plain": [
       "<function matplotlib.pyplot.show(close=None, block=None)>"
      ]
     },
     "execution_count": 7,
     "metadata": {},
     "output_type": "execute_result"
    },
    {
     "data": {
      "image/png": "[encoded data removed]",
      "text/plain": [
       "<Figure size 720x504 with 1 Axes>"
      ]
     },
     "metadata": {
      "needs_background": "light"
     },
     "output_type": "display_data"
    }
   ],
   "source": [
    "plt.figure(figsize =(10, 7))\n",
    "plt.boxplot(df['IQ'])\n",
    "plt.show"
   ]
  },
  {
   "cell_type": "code",
   "execution_count": 8,
   "id": "8d0f80bb",
   "metadata": {},
   "outputs": [
    {
     "name": "stdout",
     "output_type": "stream",
     "text": [
      "Chỉ số của outliers diem_1:[8, 8]\n",
      "Giá trị outliers diem_1   : [6 6]\n",
      "\n",
      "\n",
      "Chỉ số của outliers diem_2:[]\n",
      "Giá trị outliers diem_2   : []\n",
      "\n",
      "\n",
      "Chỉ số của outliers diem_3:[3]\n",
      "Giá trị outliers diem_3   : [2.5]\n",
      "\n",
      "\n",
      "Chỉ số của outliers diem_4:[12]\n",
      "Giá trị outliers diem_4   : [9]\n",
      "\n",
      "\n",
      "Chỉ số của outliers diem_5:[]\n",
      "Giá trị outliers diem_5   : []\n",
      "\n",
      "\n",
      "Chỉ số của outliers diem_6:[]\n",
      "Giá trị outliers diem_6   : []\n",
      "\n",
      "\n",
      "Chỉ số của outliers IQ:[0]\n",
      "Giá trị outliers IQ   : [68]\n",
      "\n",
      "\n"
     ]
    }
   ],
   "source": [
    "sigma = 2\n",
    "outliers = []\n",
    "indexes = []\n",
    "for i in df.columns:\n",
    "    data = df[i].to_numpy()\n",
    "    data_zscore = zscore(data)\n",
    "    outliers     = data_zscore[[(n < (sigma * -1))|(n > sigma) for n in data_zscore]]\n",
    "    indexes      = [data_zscore.tolist().index(i) for i in outliers]\n",
    "    print(f\"Chỉ số của outliers {i}:{indexes}\")\n",
    "    print(f\"Giá trị outliers {i}   : {data[indexes]}\\n\\n\")"
   ]
  },
  {
   "cell_type": "markdown",
   "id": "886ad45d",
   "metadata": {},
   "source": [
    "3.2) Tính hệ số tương quan Pearson giữa IQ và các điểm thi. Trên cơ sở đó, chọn điểm thi của 1 trong các môn để dự đoán chỉ số IQ theo phương pháp hồi quy tuyến tính dựa trên a) Gradient Descent VÀ b) Công thức hiệp phương sai. Trực quan hóa dữ liệu."
   ]
  },
  {
   "cell_type": "code",
   "execution_count": 9,
   "id": "01052ec5",
   "metadata": {},
   "outputs": [
    {
     "name": "stdout",
     "output_type": "stream",
     "text": [
      "Hệ số tương quan giữa diem_1 và IQ: \n",
      " [[ 1.         -0.08816758]\n",
      " [-0.08816758  1.        ]]\n",
      "\n",
      "\n",
      "Hệ số tương quan giữa diem_2 và IQ: \n",
      " [[1.        0.7516072]\n",
      " [0.7516072 1.       ]]\n",
      "\n",
      "\n",
      "Hệ số tương quan giữa diem_3 và IQ: \n",
      " [[1.         0.47152203]\n",
      " [0.47152203 1.        ]]\n",
      "\n",
      "\n",
      "Hệ số tương quan giữa diem_4 và IQ: \n",
      " [[1.         0.62297683]\n",
      " [0.62297683 1.        ]]\n",
      "\n",
      "\n",
      "Hệ số tương quan giữa diem_5 và IQ: \n",
      " [[1.         0.43985821]\n",
      " [0.43985821 1.        ]]\n",
      "\n",
      "\n",
      "Hệ số tương quan giữa diem_6 và IQ: \n",
      " [[ 1.         -0.87241887]\n",
      " [-0.87241887  1.        ]]\n",
      "\n",
      "\n"
     ]
    }
   ],
   "source": [
    "for diem in score:\n",
    "    i = df[diem].to_numpy()\n",
    "    print(f'Hệ số tương quan giữa {diem} và IQ: \\n',np.corrcoef(i, df['IQ']))\n",
    "    print('\\n')"
   ]
  },
  {
   "cell_type": "markdown",
   "id": "3902763e",
   "metadata": {},
   "source": [
    "Dự đoán chỉ số IQ theo phương pháp hồi quy tuyến tính dựa trên Gradient Descent"
   ]
  },
  {
   "cell_type": "code",
   "execution_count": 10,
   "id": "6d3784f2",
   "metadata": {},
   "outputs": [
    {
     "name": "stdout",
     "output_type": "stream",
     "text": [
      "Dự đoán chỉ số IQ dựa trên điểm 4 theo phương pháp hồi qui tuyến tính Gradient Descent\n",
      "\n",
      "Điểm môn 4:  20 mẫu;  [7 8 8 6 6 7 8 6 7 7 7 7 9 6 6 8 6 6 7 8]\n",
      "\n",
      "Chỉ số IQ:  20 mẫu;  [ 68 137 135  79 107 128 120  74 110 134 139 110 140 115  88 128 120 113\n",
      " 121 138]\n"
     ]
    }
   ],
   "source": [
    "print('Dự đoán chỉ số IQ dựa trên điểm 4 theo phương pháp hồi qui tuyến tính Gradient Descent')\n",
    "diem_4 = np.array(df['diem_4'])\n",
    "print('\\nĐiểm môn 4: ',diem_4.size,'mẫu; ',diem_4)\n",
    "IQ = np.array(df['IQ'])\n",
    "print('\\nChỉ số IQ: ',IQ.size,'mẫu; ',IQ)"
   ]
  },
  {
   "cell_type": "code",
   "execution_count": 11,
   "id": "fce2fe35",
   "metadata": {},
   "outputs": [
    {
     "data": {
      "text/plain": [
       "<Figure size 576x576 with 0 Axes>"
      ]
     },
     "metadata": {},
     "output_type": "display_data"
    },
    {
     "data": {
      "image/png": "[encoded data removed]",
      "text/plain": [
       "<Figure size 432x432 with 3 Axes>"
      ]
     },
     "metadata": {
      "needs_background": "light"
     },
     "output_type": "display_data"
    }
   ],
   "source": [
    "plt.figure(figsize = (8, 8))\n",
    "sns.jointplot(x= diem_4, y = IQ)\n",
    "plt.show()"
   ]
  },
  {
   "cell_type": "code",
   "execution_count": 12,
   "id": "8e3004ec",
   "metadata": {},
   "outputs": [
    {
     "name": "stdout",
     "output_type": "stream",
     "text": [
      "[[1. 7.]\n",
      " [1. 8.]\n",
      " [1. 8.]\n",
      " [1. 6.]\n",
      " [1. 6.]\n",
      " [1. 7.]\n",
      " [1. 8.]\n",
      " [1. 6.]\n",
      " [1. 7.]\n",
      " [1. 7.]\n",
      " [1. 7.]\n",
      " [1. 7.]\n",
      " [1. 9.]\n",
      " [1. 6.]\n",
      " [1. 6.]\n",
      " [1. 8.]\n",
      " [1. 6.]\n",
      " [1. 6.]\n",
      " [1. 7.]\n",
      " [1. 8.]]\n"
     ]
    }
   ],
   "source": [
    "X    = diem_4\n",
    "xHat = np.c_[np.ones(X.size), X]\n",
    "y    = IQ\n",
    "print(xHat)"
   ]
  },
  {
   "cell_type": "code",
   "execution_count": 13,
   "id": "4a7b5429",
   "metadata": {},
   "outputs": [],
   "source": [
    "def gradient_descent(alpha, x, y, numIterations):\n",
    "    N = x.shape[0]\n",
    "    theta = np.ones(2)\n",
    "    \n",
    "    for iter in range(0, numIterations):        \n",
    "        yHat = x @ theta        \n",
    "        loss = yHat - y \n",
    "        gradient = np.dot(x.T, loss) / N\n",
    "        \n",
    "        theta = theta - alpha * gradient             \n",
    "    return theta"
   ]
  },
  {
   "cell_type": "code",
   "execution_count": 14,
   "id": "fa2cdc5a",
   "metadata": {},
   "outputs": [
    {
     "data": {
      "text/plain": [
       "array([ 3.20612371, 15.98535516])"
      ]
     },
     "execution_count": 14,
     "metadata": {},
     "output_type": "execute_result"
    }
   ],
   "source": [
    "#phương trình dự đoán theo điểm 4\n",
    "alpha = 0.01\n",
    "theta = gradient_descent(alpha, xHat, y, 100)\n",
    "theta"
   ]
  },
  {
   "cell_type": "code",
   "execution_count": 15,
   "id": "656abffb",
   "metadata": {},
   "outputs": [
    {
     "name": "stdout",
     "output_type": "stream",
     "text": [
      "   IQ = ( 15.985355163944238 ) * diem_4 + ( 3.2061237055100253 )\n"
     ]
    }
   ],
   "source": [
    "IQ_predict_GD = theta[1] * X + theta[0]\n",
    "print('   IQ = (', theta[1], ') * diem_4 + (', theta[0], ')')"
   ]
  },
  {
   "cell_type": "code",
   "execution_count": 16,
   "id": "a30738f5",
   "metadata": {},
   "outputs": [
    {
     "data": {
      "image/png": "[encoded data removed]",
      "text/plain": [
       "<Figure size 576x576 with 1 Axes>"
      ]
     },
     "metadata": {
      "needs_background": "light"
     },
     "output_type": "display_data"
    }
   ],
   "source": [
    "# Biểu diễn trực quan kết quả của Gradient Descent\n",
    "plt.figure(figsize=(8,8))\n",
    "plt.xlim(5,10)\n",
    "plt.ylim(50,150)\n",
    "plt.scatter(xHat[:,1], IQ, color = \"green\")\n",
    "plt.plot(X, IQ_predict_GD)\n",
    "plt.title('Dự đoán chỉ số IQ dựa trên điểm 4 (phương pháp gradient descent)')\n",
    "plt.xlabel(\"diem _4\")\n",
    "plt.ylabel(\"IQ\")\n",
    "plt.show()"
   ]
  },
  {
   "cell_type": "code",
   "execution_count": 17,
   "id": "028b8f11",
   "metadata": {},
   "outputs": [
    {
     "name": "stdout",
     "output_type": "stream",
     "text": [
      "   IQ = ( 15.125 ) * diem_4 + ( 9.325000000000003 )\n",
      "\n"
     ]
    }
   ],
   "source": [
    "#b) Công thức hiệp phương sai\n",
    "def cov_predict(x,y):\n",
    "    mean_x  = np.mean(x)\n",
    "    delta_x = (x - mean_x).flatten()\n",
    "    mean_y  = np.mean(y)\n",
    "    delta_y = (y - mean_y).flatten()\n",
    "\n",
    "    numerator   = delta_x.dot(delta_y.T)\n",
    "    denominator = delta_x.dot(delta_x.T)\n",
    "\n",
    "    slope4      = numerator/denominator\n",
    "    bias4       = mean_y - (slope4 * mean_x) \n",
    "    return slope4,bias4\n",
    "\n",
    "X    = diem_4\n",
    "xHat = np.c_[np.ones(X.size), X]\n",
    "y    = IQ\n",
    "w,w0 = cov_predict(X,y)\n",
    "IQ_predict_cov = w * X + w0\n",
    "\n",
    "print('   IQ = (', w, ') * diem_4 + (', w0, ')\\n')"
   ]
  },
  {
   "cell_type": "code",
   "execution_count": 18,
   "id": "e360bef6",
   "metadata": {},
   "outputs": [
    {
     "data": {
      "image/png": "[encoded data removed]",
      "text/plain": [
       "<Figure size 576x576 with 1 Axes>"
      ]
     },
     "metadata": {
      "needs_background": "light"
     },
     "output_type": "display_data"
    }
   ],
   "source": [
    "plt.figure(figsize=(8,8))\n",
    "plt.xlim(5,10)\n",
    "plt.ylim(50,150)\n",
    "plt.scatter(X, y, color = \"green\")\n",
    "plt.plot(X, IQ_predict_cov)\n",
    "plt.title('Dự đoán chỉ số IQ dựa trên điểm 4 (phương pháp hiệp phương sai)')\n",
    "plt.xlabel(\"diem _4\")\n",
    "plt.ylabel(\"IQ\")\n",
    "plt.show()"
   ]
  },
  {
   "cell_type": "code",
   "execution_count": 19,
   "id": "947e1827",
   "metadata": {},
   "outputs": [
    {
     "data": {
      "text/plain": [
       "array([ 0.5,  1. ,  1.5,  2. ,  2.5,  3. ,  3.5,  4. ,  4.5,  5. ,  5.5,\n",
       "        6. ,  6.5,  7. ,  7.5,  8. ,  8.5,  9. ,  9.5, 10. ])"
      ]
     },
     "execution_count": 19,
     "metadata": {},
     "output_type": "execute_result"
    }
   ],
   "source": [
    "#Dự đoán chỉ số IQ cho tập dữ liệu thử nghiệm (test set): { 0.5, 1.0, 1.5, 2.0, …, 9.0, 9.5, 10 }.\n",
    "test_set = np.arange(0.5, 10.5, 0.5)\n",
    "test_set"
   ]
  },
  {
   "cell_type": "code",
   "execution_count": 20,
   "id": "319361fc",
   "metadata": {},
   "outputs": [
    {
     "name": "stdout",
     "output_type": "stream",
     "text": [
      "\n",
      "Dự đoán IQ từ test_set, bằng phương pháp hiệp phương sai :\n",
      "[16, 24, 32, 39, 47, 54, 62, 69, 77, 84, 92, 100, 107, 115, 122, 130, 137, 145, 153, 160]\n",
      "\n",
      "Dự đoán IQ từ test_set, bằng phương pháp Gradient Descent:\n",
      "[11, 19, 27, 35, 43, 51, 59, 67, 75, 83, 91, 99, 107, 115, 123, 131, 139, 147, 155, 163]\n"
     ]
    }
   ],
   "source": [
    "print('\\nDự đoán IQ từ test_set, bằng phương pháp hiệp phương sai :')\n",
    "IQ_cov_test_set = list(map(int,(w * test_set + w0)))\n",
    "print(IQ_cov_test_set)\n",
    "\n",
    "print('\\nDự đoán IQ từ test_set, bằng phương pháp Gradient Descent:')\n",
    "IQ_GD_test_set = list(map(int,(theta[1] * test_set + theta[0])))\n",
    "print(IQ_GD_test_set)"
   ]
  },
  {
   "cell_type": "code",
   "execution_count": 21,
   "id": "171e87bc",
   "metadata": {},
   "outputs": [
    {
     "data": {
      "image/png": "[encoded data removed]",
      "text/plain": [
       "<Figure size 576x576 with 1 Axes>"
      ]
     },
     "metadata": {
      "needs_background": "light"
     },
     "output_type": "display_data"
    }
   ],
   "source": [
    "plt.figure(figsize=(8,8))\n",
    "plt.grid()\n",
    "plt.xlim(0,11)\n",
    "plt.ylim(0,180)\n",
    "plt.plot(test_set, IQ_GD_test_set)\n",
    "plt.scatter(test_set, IQ_cov_test_set,color='red')\n",
    "plt.xlabel(\"test_set\")\n",
    "plt.ylabel(\"IQ predict\")\n",
    "plt.title('Dự đoán IQ tập test_set dựa trên điểm 4, theo phương pháp hiệp phương sai (đỏ) và Gradient Descent (xanh)')\n",
    "plt.show()"
   ]
  },
  {
   "cell_type": "markdown",
   "id": "b3d68a0a",
   "metadata": {},
   "source": [
    "3.4) Nhận xét kết quả khi dùng diem_5 để dự đoán chỉ số IQ."
   ]
  },
  {
   "cell_type": "code",
   "execution_count": 22,
   "id": "6348f45b",
   "metadata": {},
   "outputs": [
    {
     "name": "stdout",
     "output_type": "stream",
     "text": [
      "\n",
      "Dự đoán IQ từ điểm 5, bằng phương pháp hiệp phương sai :\n",
      "[30, 69, 87, 106, 24, 94, 75, 15, 84, 45, 63, 81, 118, 39, 63, 94, 115, 45, 33, 130]\n",
      "\n",
      "Dự đoán IQ từ điểm 5, bằng phương pháp Gradient Descent:\n",
      "[25, 67, 86, 105, 19, 92, 73, 9, 83, 41, 60, 79, 118, 35, 60, 92, 115, 41, 28, 131]\n"
     ]
    }
   ],
   "source": [
    "## Dùng điểm 5 dự đoán IQ, so sánh với thực tế\n",
    "\n",
    "diem5=df['diem_5'].to_numpy()\n",
    "diem5Hat = np.c_[np.ones(diem5.size), diem5]\n",
    "\n",
    "print('\\nDự đoán IQ từ điểm 5, bằng phương pháp hiệp phương sai :')\n",
    "IQ_cov_diem_5_predict = list(map(int,(w* diem5 + w0)))\n",
    "print(IQ_cov_diem_5_predict)\n",
    "\n",
    "print('\\nDự đoán IQ từ điểm 5, bằng phương pháp Gradient Descent:')\n",
    "IQ_GD_diem5 = list(map(int,(theta[1] * diem5 + theta[0])))\n",
    "print(IQ_GD_diem5)"
   ]
  },
  {
   "cell_type": "code",
   "execution_count": 23,
   "id": "89d4907a",
   "metadata": {},
   "outputs": [
    {
     "data": {
      "image/png": "[encoded data removed]",
      "text/plain": [
       "<Figure size 576x576 with 1 Axes>"
      ]
     },
     "metadata": {
      "needs_background": "light"
     },
     "output_type": "display_data"
    }
   ],
   "source": [
    "\n",
    "plt.figure(figsize=(8,8))\n",
    "plt.grid()\n",
    "plt.xlim(0,11)\n",
    "plt.ylim(10,180)\n",
    "plt.scatter(diem5, IQ, color = \"green\")\n",
    "plt.plot(diem5, IQ_GD_diem5,color='red')\n",
    "plt.plot(diem5, IQ_cov_diem_5_predict)\n",
    "plt.xlabel(\"diem 5\")\n",
    "plt.ylabel(\"IQ\")\n",
    "plt.title('So sánh IQ dự đoán và thực tế từ điểm môn 5 theo phương pháp hiệp phương sai và gradient descent')\n",
    "plt.show()"
   ]
  },
  {
   "cell_type": "code",
   "execution_count": 24,
   "id": "2702f787",
   "metadata": {},
   "outputs": [
    {
     "name": "stdout",
     "output_type": "stream",
     "text": [
      "Khác biệt chỉ số IQ bởi phương pháp hiệp phương sai: \n",
      " [ 38  68  48 -27  83  34  45  59  26  89  76  29  22  76  25  34   5  68\n",
      "  88   8]\n",
      "Khác biệt chỉ số IQ bởi phương pháp Gradient Descent: \n",
      " [ 43  70  49 -26  88  36  47  65  27  93  79  31  22  80  28  36   5  72\n",
      "  93   7]\n"
     ]
    }
   ],
   "source": [
    "dif_cov = IQ - IQ_cov_diem_5_predict\n",
    "print('Khác biệt chỉ số IQ bởi phương pháp hiệp phương sai: \\n', dif_cov)\n",
    "\n",
    "dif_GD = IQ - IQ_GD_diem5\n",
    "print('Khác biệt chỉ số IQ bởi phương pháp Gradient Descent: \\n', dif_GD)"
   ]
  },
  {
   "cell_type": "markdown",
   "id": "accdf0cf",
   "metadata": {},
   "source": [
    "** Nhận xét: Chỉ số IQ dự đoán từ điểm môn 5 dựa trên phương pháp hồi quy tuyến tính (công thức hiệp phương sai) không đúng với thực tế và đa số thấp hơn thực tế. "
   ]
  }
 ],
 "metadata": {
  "kernelspec": {
   "display_name": "Python 3 (ipykernel)",
   "language": "python",
   "name": "python3"
  },
  "language_info": {
   "codemirror_mode": {
    "name": "ipython",
    "version": 3
   },
   "file_extension": ".py",
   "mimetype": "text/x-python",
   "name": "python",
   "nbconvert_exporter": "python",
   "pygments_lexer": "ipython3",
   "version": "3.10.5"
  }
 },
 "nbformat": 4,
 "nbformat_minor": 5
}
